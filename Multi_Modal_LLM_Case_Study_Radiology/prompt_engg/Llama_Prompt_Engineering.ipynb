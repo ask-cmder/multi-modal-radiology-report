{
 "cells": [
  {
   "cell_type": "code",
   "execution_count": 2,
   "id": "8f4f28ed-c090-4c43-a250-da55064998fa",
   "metadata": {},
   "outputs": [
    {
     "name": "stderr",
     "output_type": "stream",
     "text": [
      "C:\\Users\\LENOVO\\AppData\\Local\\Temp\\ipykernel_15992\\968752072.py:3: LangChainDeprecationWarning: The class `Ollama` was deprecated in LangChain 0.3.1 and will be removed in 1.0.0. An updated version of the class exists in the :class:`~langchain-ollama package and should be used instead. To use it run `pip install -U :class:`~langchain-ollama` and import as `from :class:`~langchain_ollama import OllamaLLM``.\n",
      "  llm = Ollama(model=\"llama3\")\n"
     ]
    },
    {
     "name": "stdout",
     "output_type": "stream",
     "text": [
      "Here's one:\n",
      "\n",
      "Why did Foo and Boo from the Mock Program go to therapy?\n",
      "\n",
      "Because they were having some \"expected\" issues! Foo was always trying to \"assert\" himself, while Boo just kept saying \"nope, nope, nope\" to every suggestion. It was a real \"test\" of their relationship!\n",
      "\n",
      "Hope that one passed with flying colors!\n"
     ]
    }
   ],
   "source": [
    "from langchain_community.llms import Ollama\n",
    "\n",
    "llm = Ollama(model=\"llama3\")\n",
    "prompt = \"Tell a joke about about two user foo and boo from a mock program.\"\n",
    "result = llm.invoke(prompt)\n",
    "print(result)"
   ]
  },
  {
   "cell_type": "markdown",
   "id": "2c00da5f-26bc-40ea-8cdd-d48325082b9b",
   "metadata": {},
   "source": [
    "1. Zero-Shot Prompting\n",
    "\n",
    "In zero-shot prompting, we ask a question without providing any examples.\n"
   ]
  },
  {
   "cell_type": "code",
   "execution_count": 4,
   "id": "9bfbe3fb-64a5-4122-8f17-a1718cc5466d",
   "metadata": {},
   "outputs": [
    {
     "name": "stderr",
     "output_type": "stream",
     "text": [
      "C:\\Users\\LENOVO\\AppData\\Local\\Temp\\ipykernel_15992\\1215335934.py:2: LangChainDeprecationWarning: The method `BaseLLM.__call__` was deprecated in langchain-core 0.1.7 and will be removed in 1.0. Use :meth:`~invoke` instead.\n",
      "  response = llm(prompt)\n"
     ]
    },
    {
     "name": "stdout",
     "output_type": "stream",
     "text": [
      "A concerning symptom! I'm not a doctor, but I can try to help you narrow down some possible causes. Please keep in mind that only a medical professional can provide an accurate diagnosis after a thorough evaluation.\n",
      "\n",
      "That being said, the symptoms you've described - tightness in the chest and trouble breathing (dyspnea) - are quite common and can have various underlying causes. Here are some possibilities:\n",
      "\n",
      "1. **Anxiety or panic**: Stress, anxiety, or panic attacks can cause rapid breathing, palpitations, and a feeling of constriction in the chest.\n",
      "2. **Asthma**: Inflammation and constriction of airways (bronchial tubes) can lead to wheezing, coughing, and shortness of breath.\n",
      "3. **Pulmonary embolism** (blood clot): A blood clot that breaks loose and travels to the lungs (pulmonary embolism) can cause sudden chest pain, difficulty breathing, and lightheadedness.\n",
      "4. **Cardiovascular issues**: Coronary artery disease, heart failure, or myocardial infarction (heart attack) can lead to chest tightness, shortness of breath, and other symptoms.\n",
      "5. **Pneumonia** (lung infection): Bacterial, viral, or fungal infections in the lungs can cause coughing, fever, and difficulty breathing.\n",
      "6. **Chronic obstructive pulmonary disease (COPD)**: Long-term damage to lung tissue from smoking or environmental pollutants can lead to shortness of breath, wheezing, and blue-tinged skin (cyanosis).\n",
      "7. **Respiratory muscle weakness** (e.g., myasthenia gravis): Muscle weakness in the diaphragm and other respiratory muscles can cause difficulty breathing.\n",
      "8. **Acute respiratory distress syndrome** (ARDS): A condition where the lungs become inflamed and filled with fluid, leading to severe shortness of breath and low oxygen levels.\n",
      "9. **Pleurisy**: Inflammation of the lining surrounding the lungs (pleura) can cause sharp chest pain, difficulty breathing, and a feeling of tightness in the chest.\n",
      "\n",
      "If you're experiencing these symptoms, it's essential to seek immediate medical attention. Call emergency services or visit an urgent care center or hospital.\n",
      "\n",
      "In the meantime, try to:\n",
      "\n",
      "* Sit upright and try to relax\n",
      "* Take slow, deep breaths through your mouth and nose\n",
      "* Avoid strenuous activities\n",
      "* If possible, sit in a comfortable position with your back supported\n",
      "\n",
      "Remember, only a medical professional can diagnose the underlying cause of these symptoms. Don't hesitate to seek help if you're concerned about your health.\n"
     ]
    }
   ],
   "source": [
    "prompt = \"I have a tight feeling in my chest and trouble breathing. What could be causing this?\"\n",
    "response = llm(prompt)\n",
    "print(response)"
   ]
  },
  {
   "cell_type": "markdown",
   "id": "306a4609-5232-452f-8487-bbf6e345eed1",
   "metadata": {},
   "source": [
    "2. One-Shot Prompting\n",
    "\n",
    "In One-shot prompting we provides a single example to guide the model's response."
   ]
  },
  {
   "cell_type": "code",
   "execution_count": 6,
   "id": "3414b3ea-b8a6-48ac-bf8b-a8f812bce12c",
   "metadata": {},
   "outputs": [
    {
     "name": "stdout",
     "output_type": "stream",
     "text": [
      "I'm not a doctor, but I can try to help you understand what might be going on. Since your doctor suspects pneumonia, that's a good starting point. Here are some possible causes of the tight feeling in your chest and trouble breathing:\n",
      "\n",
      "1. **Pneumonia**: As mentioned, this is a possibility given your symptoms. Pneumonia can cause inflammation and fluid buildup in the lungs, leading to a tight or heavy sensation in the chest.\n",
      "2. **Influenza (flu)**: The flu virus can also cause similar symptoms, including a tight chest feeling and difficulty breathing. If you haven't been tested for influenza yet, it's possible that this is the underlying cause of your symptoms.\n",
      "3. **Pneumocystis pneumonia (PCP)**: This is a type of pneumonia caused by the Pneumocystis jirovecii fungus. It often affects people with weakened immune systems, such as those with HIV/AIDS or taking immunosuppressive medications.\n",
      "4. **Chronic obstructive pulmonary disease (COPD)**: If you have COPD, your symptoms may be exacerbated during an acute respiratory infection like pneumonia. The tight chest feeling and difficulty breathing are common in this condition.\n",
      "5. **Pleurisy**: This is inflammation of the lining surrounding the lungs (pleura). It can cause a sharp, stabbing chest pain that's often worsened by breathing or coughing.\n",
      "6. **Pneumothorax**: Also known as a collapsed lung, this occurs when air or gas accumulates in the space between the lung and chest wall. This can cause a tight feeling in the chest, shortness of breath, and sharp chest pain.\n",
      "7. **Acute respiratory distress syndrome (ARDS)**: This is a life-threatening condition that can occur as a complication of pneumonia, flu, or other serious illnesses. It's characterized by inflammation and fluid buildup in the lungs, leading to difficulty breathing.\n",
      "\n",
      "It's essential to consult with your doctor to determine the underlying cause of your symptoms. They may recommend further testing, such as a chest X-ray, CT scan, or blood tests, to help diagnose the condition. Treatment will depend on the underlying cause, but it may include antibiotics, oxygen therapy, and other supportive measures.\n"
     ]
    }
   ],
   "source": [
    "example = \"I have been coughing a lot with a fever. My doctor says it could be pneumonia.\"\n",
    "prompt = f\"{example}\\nI have a tight feeling in my chest and trouble breathing. What could be causing this?\"\n",
    "response = llm(prompt)\n",
    "print(response)"
   ]
  },
  {
   "cell_type": "markdown",
   "id": "94da2e8e-a875-4bfc-aeb0-00ea76a59245",
   "metadata": {},
   "source": [
    "3. Few-Shot Prompting\n",
    "\n",
    "In few-shot prompting, we provide multiple examples to set a clearer context."
   ]
  },
  {
   "cell_type": "code",
   "execution_count": 8,
   "id": "4811071a-d12f-48df-9953-b32f7655a0ae",
   "metadata": {},
   "outputs": [
    {
     "name": "stdout",
     "output_type": "stream",
     "text": [
      "Sorry to hear that you're experiencing some discomforting symptoms!\n",
      "\n",
      "Based on what you've shared, here are some possible explanations:\n",
      "\n",
      "1. You're coughing with fever:\n",
      "\t* As your doctor mentioned, pneumonia is a possibility. Other potential causes include bronchitis, acute respiratory distress syndrome (ARDS), or even a viral infection like the common cold.\n",
      "2. Feeling short of breath when lying down:\n",
      "\t* This could be related to asthma, as you suspected. However, other conditions that can cause similar symptoms include heart failure, chronic obstructive pulmonary disease (COPD), or even pneumonia (again!).\n",
      "3. Tight feeling in your chest and trouble breathing:\n",
      "\t* This combination of symptoms is quite concerning. Some possible explanations include:\n",
      "\t\t+ Pneumonia (again!) - if it's not already ruled out by your doctor.\n",
      "\t\t+ Pulmonary embolism (PE) or deep vein thrombosis (DVT) - blood clots in the lungs can cause chest tightness and difficulty breathing.\n",
      "\t\t+ Cardiac issues, such as heart failure or a pulmonary edema - fluid buildup in the lungs can lead to these symptoms.\n",
      "\t\t+ Other possibilities include an allergic reaction, acid reflux, or even a panic attack.\n",
      "\n",
      "It's essential to consult with your doctor (or seek emergency medical attention if you're experiencing severe symptoms) to get a proper diagnosis and treatment plan.\n"
     ]
    }
   ],
   "source": [
    "examples = \"\"\"\n",
    "1. I have been coughing a lot with a fever. My doctor says it could be pneumonia.\n",
    "2. I feel short of breath when lying down. Could it be related to asthma?\n",
    "\"\"\"\n",
    "prompt = f\"{examples}\\nI have a tight feeling in my chest and trouble breathing. What could be causing this?\"\n",
    "response = llm(prompt)\n",
    "print(response)"
   ]
  },
  {
   "cell_type": "markdown",
   "id": "1badcce1-325e-4eec-8666-5e29c0fe4db1",
   "metadata": {},
   "source": [
    "4. Chain of Thought Prompting\n",
    "\n",
    "In Chain of Thought (CoT) prompting we breaking down complex questions into smaller steps."
   ]
  },
  {
   "cell_type": "code",
   "execution_count": 10,
   "id": "456ed210-8ff8-4d7e-99e0-864eeed071cb",
   "metadata": {},
   "outputs": [
    {
     "name": "stdout",
     "output_type": "stream",
     "text": [
      "A concerning combination of symptoms! Let's break them down step by step to explore possible causes.\n",
      "\n",
      "**Persistent pain in your chest:**\n",
      "\n",
      "1. **Cardiac origin**: This could be a sign of heart-related issues, such as:\n",
      "\t* Angina (chest pain due to reduced blood flow to the heart)\n",
      "\t* Heart attack or myocardial infarction\n",
      "\t* Cardiac arrhythmia (abnormal heartbeat)\n",
      "2. **Non-cardiac causes**: Other possibilities include:\n",
      "\t* Costochondritis (inflammation of the cartilage that connects ribs to breastbone)\n",
      "\t* Chest wall pain (related to muscle strain, injury, or inflammation)\n",
      "\n",
      "**Difficulty breathing:**\n",
      "\n",
      "1. **Respiratory issues**: This could be due to:\n",
      "\t* Pneumonia or other lung infections\n",
      "\t* Chronic obstructive pulmonary disease (COPD)\n",
      "\t* Pulmonary embolism (blockage in the lungs)\n",
      "2. **Cardiovascular-related breathing difficulties**: Related to heart problems, such as:\n",
      "\t* Congestive heart failure (CHF) with fluid accumulation in the lungs\n",
      "3. **Other possible causes**: Not necessarily related to the chest or lungs:\n",
      "\t* Anxiety or panic attacks\n",
      "\t* Asthma\n",
      "\n",
      "**Combination of symptoms:**\n",
      "\n",
      "Given your persistent pain and difficulty breathing, some potential explanations include:\n",
      "\n",
      "1. **Cardiac-related issues**: Heart attack, cardiac arrhythmia, or congestive heart failure with pulmonary involvement.\n",
      "2. **Pulmonary embolism**: A blockage in the lungs that's causing both chest pain and shortness of breath.\n",
      "3. **Pneumonia**: A lung infection that's causing respiratory distress and potentially related to a weakened immune system.\n",
      "\n",
      "**Next steps:**\n",
      "\n",
      "As these symptoms are concerning, it's essential to seek immediate medical attention. Call emergency services (911 or your local equivalent) or visit an urgent care center or emergency department. Be prepared to provide details about:\n",
      "\n",
      "1. The location, duration, and severity of the pain\n",
      "2. Any factors that aggravate or relieve the discomfort\n",
      "3. Any recent illnesses, surgeries, or medical conditions\n",
      "4. Family history of cardiac or lung diseases\n",
      "\n",
      "The healthcare provider will likely perform a physical examination, take your medical history, and order diagnostic tests (e.g., ECG, chest X-ray, blood work) to determine the underlying cause of your symptoms.\n",
      "\n",
      "Remember, it's always better to err on the side of caution when experiencing concerning symptoms.\n"
     ]
    }
   ],
   "source": [
    "prompt = \"\"\"\n",
    "I feel a persistent pain in my chest and have difficulty breathing. Could it be something serious?\n",
    "Think step-by-step to analyze the symptoms and provide possible causes.\n",
    "\"\"\"\n",
    "response = llm(prompt)\n",
    "print(response)"
   ]
  },
  {
   "cell_type": "markdown",
   "id": "70e82fac-7e01-4cd1-9dbe-05c35291c1b8",
   "metadata": {},
   "source": [
    "5. Instruction-Based Prompting\n",
    "In Instruction-based prompting we direct the model with explicit instructions on how to respond."
   ]
  },
  {
   "cell_type": "code",
   "execution_count": 12,
   "id": "c40fb4db-d5ee-44e9-9e5a-1b0619b76ebc",
   "metadata": {},
   "outputs": [
    {
     "name": "stdout",
     "output_type": "stream",
     "text": [
      "I'd be happy to explain!\n",
      "\n",
      "COVID-19 is a respiratory virus that can cause inflammation and damage to the lungs and airways. This can lead to several issues that affect breathing:\n",
      "\n",
      "1. **Airway constriction**: The virus causes the airways to constrict or narrow, making it harder for air to flow in and out of your lungs.\n",
      "2. **Inflammation**: COVID-19 triggers an inflammatory response in the lungs, which can cause swelling and damage to the delicate tissues that line the air sacs (alveoli).\n",
      "3. **Fluid buildup**: As the virus infects and damages lung tissue, fluid can accumulate in the lungs, making it harder for you to breathe.\n",
      "4. **Muscle fatigue**: Your diaphragm and other breathing muscles can become fatigued from trying to compensate for these changes, leading to shortness of breath.\n",
      "\n",
      "These effects can make breathing more difficult, leading to symptoms like coughing, wheezing, chest tightness, and shortness of breath. In severe cases, COVID-19 can even cause respiratory failure, which requires urgent medical attention.\n",
      "\n",
      "Does that help clarify things?\n"
     ]
    }
   ],
   "source": [
    "prompt = \"Explain to me in short, as if I were a patient, why COVID-19 affects breathing.\"\n",
    "response = llm(prompt)\n",
    "print(response)"
   ]
  },
  {
   "cell_type": "markdown",
   "id": "aeea6f1f-99e3-4194-ad2f-b109fc8d3cfe",
   "metadata": {},
   "source": [
    "6. Role-Playing\n",
    "   \n",
    "In role-playing, we provide model with a specific character or role."
   ]
  },
  {
   "cell_type": "code",
   "execution_count": 14,
   "id": "4366edd4-068a-47e0-9976-03dbc1f06b6e",
   "metadata": {},
   "outputs": [
    {
     "name": "stdout",
     "output_type": "stream",
     "text": [
      "A concerning presentation! As a respiratory specialist, I'd like to reassure the patient that we'll work together to get to the bottom of these symptoms. Here's how I'd approach the situation:\n",
      "\n",
      "**Initial Assessment**\n",
      "\n",
      "I'd start by asking some questions to better understand their symptoms and medical history. For example: \n",
      "\n",
      "* When did they first notice the tight feeling in their chest?\n",
      "* Is it constant or does it come and go? \n",
      "* Are there any triggers that make it worse (e.g., exercise, stress, allergies)?\n",
      "* Do they experience difficulty breathing at rest or during physical activity?\n",
      "* Have they noticed any changes in their cough, sputum, or body weight recently?\n",
      "* Do they have a history of smoking, lung disease, or other medical conditions?\n",
      "\n",
      "**Initial Differential Diagnosis**\n",
      "\n",
      "Based on the patient's symptoms and medical history, I'd consider the following potential causes:\n",
      "\n",
      "1. **Asthma**: A respiratory condition characterized by recurring episodes of wheezing, coughing, chest tightness, and shortness of breath.\n",
      "2. **Chronic Obstructive Pulmonary Disease (COPD)**: A progressive lung disease that makes it difficult to breathe, often caused by smoking or exposure to pollutants.\n",
      "3. **Pneumonia**: An infection that can cause inflammation in the airspaces of the lungs, leading to symptoms like chest tightness and difficulty breathing.\n",
      "4. **Pulmonary Embolism (PE)**: A blockage in the pulmonary arteries that can occur due to blood clots or other causes.\n",
      "5. **Cardiac Conditions**: Such as heart failure, coronary artery disease, or cardiomyopathy, which can lead to symptoms similar to those experienced by this patient.\n",
      "\n",
      "**Recommended Tests**\n",
      "\n",
      "To further investigate these possibilities, I'd recommend the following tests:\n",
      "\n",
      "1. **Pulse Oximetry**: A non-invasive test that measures the level of oxygen in their blood.\n",
      "2. **Peak Flow Meter**: A handheld device that measures lung function and can help diagnose asthma or COPD.\n",
      "3. **Chest X-ray (CX)**: An imaging test that helps identify any abnormalities in the lungs, such as pneumonia or tumors.\n",
      "4. ** Spirometry**: A breathing test that measures lung function and can help diagnose asthma, COPD, or other pulmonary conditions.\n",
      "5. **Electrocardiogram (ECG)**: A test that records the electrical activity of the heart to rule out cardiac causes for their symptoms.\n",
      "\n",
      "**Next Steps**\n",
      "\n",
      "Based on the results of these tests, we'd develop a personalized treatment plan to address the underlying cause of their symptoms. This might include medication, pulmonary rehabilitation, or other interventions as needed.\n",
      "\n",
      "I hope this helps provide a framework for understanding and addressing the patient's symptoms!\n"
     ]
    }
   ],
   "source": [
    "prompt = \"\"\"\n",
    "You are a respiratory specialist (doctor). A patient comes to you saying, \"I have a tight feeling in my chest and trouble breathing.\" \n",
    "How would you explain their symptoms and what tests would you recommend?\n",
    "\"\"\"\n",
    "response = llm(prompt)\n",
    "print(response)"
   ]
  },
  {
   "cell_type": "markdown",
   "id": "cb845992-837d-408f-a708-c07212382e1f",
   "metadata": {},
   "source": [
    "7. Prompt Priming\n",
    "   \n",
    "In Prompt priming we sets up the model to answer in a specific tone or style by starting with a sample response."
   ]
  },
  {
   "cell_type": "code",
   "execution_count": 16,
   "id": "941de4d1-4221-4231-b3ea-b76f8f9eb14c",
   "metadata": {},
   "outputs": [
    {
     "name": "stdout",
     "output_type": "stream",
     "text": [
      "Hello there! I'm so glad you came in today to talk about your symptoms. I can only imagine how frustrating it must be to not feel well and not know what's going on.\n",
      "\n",
      "Let me start by saying that everything we discuss here is confidential and a safe space for you to share your concerns. I'm here to listen, understand, and help you get some answers.\n",
      "\n",
      "Can you tell me a little bit about what's been going on? What symptoms are you experiencing, and when did they start? Try not to worry too much about \"sounding silly\" or \"not making sense\" - just let it all out!\n",
      "\n",
      "As we chat, I'll take notes and ask follow-up questions to help me better understand your situation. And don't worry if you're not sure what's going on or how to describe things – that's totally okay! We can work together to try to figure it out.\n",
      "\n",
      "Remember, as a medical assistant, my role is to support your healthcare provider and make sure they have all the information they need to give you the best possible care. So, even if we don't find an exact answer today, just knowing what's going on (or not going on) can be really helpful in getting you back to feeling better.\n",
      "\n",
      "Let's get started! What's been going on with your body?\n",
      "Sorry to hear that you're experiencing symptoms like shortness of breath (dyspnea) and frequent coughing. There are many potential causes for these symptoms, so let's go through some possible explanations:\n",
      "\n",
      "**Causes:**\n",
      "\n",
      "1. **Asthma**: Asthma is a chronic inflammatory disease that affects the airways, leading to recurring episodes of wheezing, coughing, chest tightness, and shortness of breath.\n",
      "2. **Chronic Obstructive Pulmonary Disease (COPD)**: COPD is a progressive lung disease that makes it hard to breathe. It's often caused by smoking or long-term exposure to air pollution.\n",
      "3. **Pneumonia**: Pneumonia is an infection that inflames the air sacs in your lungs, making breathing difficult and causing a persistent cough.\n",
      "4. **Bronchitis**: Bronchitis is an inflammation of the bronchial tubes, which can cause a productive (mucus-producing) cough and shortness of breath.\n",
      "5. **Lung fibrosis**: Lung fibrosis is a scarring of the lung tissue that can lead to shortness of breath, coughing, and fatigue.\n",
      "6. **Pulmonary embolism**: A pulmonary embolism occurs when a blood clot travels to your lungs, blocking blood flow and causing symptoms like shortness of breath and coughing.\n",
      "7. **Cardiac conditions**: Heart failure, coronary artery disease, or arrhythmias (abnormal heart rhythms) can also cause shortness of breath and coughing.\n",
      "8. **Anxiety or stress**: Anxiety or stress can sometimes manifest as physical symptoms like shortness of breath and coughing.\n",
      "9. **Allergies**: Allergic reactions to environmental factors like dust, pollen, or pet dander can trigger asthma-like symptoms.\n",
      "10. **Other conditions**: Less common causes might include lung cancer, sarcoidosis, and interstitial lung disease.\n",
      "\n",
      "**What to do:**\n",
      "\n",
      "1. **Consult a doctor**: If you're experiencing persistent shortness of breath and coughing, it's essential to consult with your primary care physician or a pulmonologist.\n",
      "2. **Keep track of symptoms**: Record when your symptoms occur, how long they last, and any potential triggers (e.g., exercise, allergens).\n",
      "3. **Get tested**: Your doctor may recommend tests like spirometry (measures lung function), chest X-rays, or CT scans to help diagnose the underlying cause.\n",
      "4. **Follow treatment plan**: If a diagnosis is made, follow your doctor's recommended treatment plan, which may include medication, lifestyle changes, or further testing.\n",
      "\n",
      "Remember, it's always better to err on the side of caution when it comes to your health. Don't hesitate to seek medical attention if you're concerned about these symptoms.\n"
     ]
    }
   ],
   "source": [
    "# Prompt priming\n",
    "priming_prompt = \"You are a medical assistant helping patients understand their symptoms. Be empathetic and informative.\"\n",
    "response = llm(priming_prompt)\n",
    "print(response)\n",
    "\n",
    "# Follow-up\n",
    "prompt = \"I feel short of breath and cough frequently. What might be causing this?\"\n",
    "response = llm(prompt)\n",
    "print(response)"
   ]
  },
  {
   "cell_type": "markdown",
   "id": "848d2db4-fe52-4d55-8478-6f0331477ed5",
   "metadata": {},
   "source": [
    "8. Task Decomposition\n",
    "   \n",
    "In Task decomposition we breaking down a larger task into smaller, manageable steps."
   ]
  },
  {
   "cell_type": "code",
   "execution_count": 18,
   "id": "3399db11-c49c-4474-b771-e600f7b6a25a",
   "metadata": {},
   "outputs": [
    {
     "name": "stdout",
     "output_type": "stream",
     "text": [
      "I'd be happy to help!\n",
      "\n",
      "**How COVID-19 Affects the Lungs:**\n",
      "\n",
      "COVID-19 is caused by the SARS-CoV-2 virus, which primarily attacks the respiratory system. The infection can cause inflammation and damage to the lungs, leading to a range of symptoms that affect breathing.\n",
      "\n",
      "In mild cases, COVID-19 may cause:\n",
      "\n",
      "* Mild cough\n",
      "* Shortness of breath (dyspnea)\n",
      "* Chest tightness or discomfort\n",
      "* Fatigue\n",
      "\n",
      "As the infection progresses, more severe symptoms can develop, including:\n",
      "\n",
      "* Pneumonia: Inflammation of the air sacs in the lungs, which can fill with fluid and pus.\n",
      "* Acute respiratory distress syndrome (ARDS): A life-threatening condition characterized by inflammation and damage to the lungs, making it difficult for oxygen to reach the body's tissues.\n",
      "\n",
      "In severe cases, COVID-19 can lead to:\n",
      "\n",
      "* Respiratory failure: The need for mechanical ventilation or supplemental oxygen to support breathing.\n",
      "* Multi-organ dysfunction: The virus can also affect other organs, such as the heart, liver, and kidneys.\n",
      "\n",
      "**Advice to a Patient Experiencing Respiratory Distress:**\n",
      "\n",
      "If you're experiencing respiratory distress due to COVID-19 or any other condition, it's essential to seek medical attention immediately. Here are some tips to help manage your symptoms:\n",
      "\n",
      "1. **Stay calm**: Panicking can worsen breathing difficulties. Take slow, deep breaths and try to relax.\n",
      "2. **Sit upright**: Sit up straight with your back supported by a chair or pillow. This can help improve lung function and reduce congestion.\n",
      "3. **Use an inhaler (if prescribed)**: If you have been prescribed an inhaler, use it as directed to help open airways and relieve symptoms.\n",
      "4. **Stay hydrated**: Drink plenty of fluids, such as water or electrolyte-rich beverages, to help thin out mucus and keep your lungs moist.\n",
      "5. **Avoid triggers**: Try to avoid factors that can exacerbate respiratory distress, such as:\n",
      "\t* Smoke or secondhand smoke\n",
      "\t* Strong odors or chemicals\n",
      "\t* Dust or pollen\n",
      "6. **Follow oxygen therapy (if prescribed)**: If you've been prescribed oxygen therapy, use it as directed to help increase the amount of oxygen in your blood.\n",
      "7. **Get medical attention**: If you're experiencing severe symptoms, such as difficulty breathing, chest pain, or severe fatigue, seek immediate medical attention.\n",
      "\n",
      "Remember, respiratory distress is a serious condition that requires prompt medical attention. By following these tips and seeking professional care, you can help manage your symptoms and improve your outcomes.\n"
     ]
    }
   ],
   "source": [
    "prompt = \"\"\"\n",
    "1. Explain how COVID-19 affects the lungs.\n",
    "2. Provide advice to a patient experiencing respiratory distress.\n",
    "\"\"\"\n",
    "response = llm(prompt)\n",
    "print(response)"
   ]
  },
  {
   "cell_type": "markdown",
   "id": "f08512d5-2430-4055-817f-e93ea7544945",
   "metadata": {},
   "source": [
    "9. Few-Shot Chain of Thought\n",
    "\n",
    "Combining few-shot prompting with chain of thought, where multiple examples include step-by-step reasoning."
   ]
  },
  {
   "cell_type": "code",
   "execution_count": 20,
   "id": "53275039-a32b-4ea6-8332-c7057cd8a821",
   "metadata": {},
   "outputs": [
    {
     "name": "stdout",
     "output_type": "stream",
     "text": [
      "A classic dialogue!\n",
      "\n",
      "Let's break it down:\n",
      "\n",
      "1. Patient presents with coughing and fever, which the doctor attributes to pneumonia and suggests a chest X-ray to confirm the diagnosis.\n",
      "\n",
      "2. In the second scenario, the patient reports tightness in their chest and difficulty taking deep breaths. The doctor suspects either asthma or a panic attack, indicating that further tests are needed to determine the underlying cause.\n",
      "\n",
      "Now, for the third scenario:\n",
      "\n",
      "Patient: I have a tight feeling in my chest and trouble breathing.\n",
      "Doctor: Think step-by-step and explain.\n",
      "\n",
      "The doctor is encouraging the patient to think critically about their symptoms and provide more context. By asking the patient to \"think step-by-step and explain,\" the doctor is essentially saying:\n",
      "\n",
      "\"Let's go through this together, one step at a time. Can you tell me more about what's happening when you feel tightness in your chest? Is it sudden or gradual? Are there any triggers that make it worse or better? And how are you feeling when you're having trouble breathing?\"\n",
      "\n",
      "By doing so, the doctor is trying to gather more information and help the patient clarify their symptoms, which will ultimately inform the next steps in diagnosis and treatment.\n"
     ]
    }
   ],
   "source": [
    "examples = \"\"\"\n",
    "1. Patient: I have been coughing with a fever.\n",
    "   Doctor: Cough and fever are common symptoms of pneumonia. Let's do a chest X-ray to confirm.\n",
    "2. Patient: I feel tightness in my chest and can't take deep breaths.\n",
    "   Doctor: This could indicate asthma or a panic attack. Further tests are required.\n",
    "\"\"\"\n",
    "prompt = f\"{examples}\\nPatient: I have a tight feeling in my chest and trouble breathing.\\nDoctor: Think step-by-step and explain.\"\n",
    "response = llm(prompt)\n",
    "print(response)"
   ]
  },
  {
   "cell_type": "markdown",
   "id": "c587cbef-98a4-4c08-a62c-4518b430596b",
   "metadata": {},
   "source": [
    "10. Contrastive Prompting\n",
    "\n",
    "Contrastive prompting helps differentiate similar concepts by providing contrasting examples."
   ]
  },
  {
   "cell_type": "code",
   "execution_count": 22,
   "id": "2d38010f-3b96-4c83-8bff-dce15f752e7e",
   "metadata": {},
   "outputs": [
    {
     "name": "stdout",
     "output_type": "stream",
     "text": [
      "A very astute question!\n",
      "\n",
      "When a patient presents with complaints of shortness of breath, it's essential to distinguish between pneumonia and asthma. While both conditions can cause breathing difficulties, there are key differences in their symptoms, presentation, and underlying mechanisms.\n",
      "\n",
      "**Pneumonia:**\n",
      "\n",
      "* Symptoms:\n",
      "\t+ Sudden onset of shortness of breath (dyspnea)\n",
      "\t+ Coughing, often producing yellow or green phlegm\n",
      "\t+ Chest pain or discomfort\n",
      "\t+ Fever, chills, or feeling generally unwell\n",
      "\t+ Confusion, disorientation, or loss of consciousness in severe cases\n",
      "* Physical findings:\n",
      "\t+ Rales (crackles) or rhonchi (wheezes) heard on auscultation (listening to the lungs with a stethoscope)\n",
      "\t+ Tachypnea (rapid breathing rate)\n",
      "\t+ Hypoxia (low oxygen levels)\n",
      "\n",
      "Pneumonia is an infection that inflames and fills the alveoli (air sacs) in the lungs, making it difficult for oxygen to reach the bloodstream. The symptoms are often accompanied by a fever and may worsen over time if left untreated.\n",
      "\n",
      "**Asthma:**\n",
      "\n",
      "* Symptoms:\n",
      "\t+ Gradual onset of shortness of breath (dyspnea)\n",
      "\t+ Wheezing or coughing, often triggered by specific stimuli (e.g., allergens, exercise, cold air)\n",
      "\t+ Chest tightness or constriction\n",
      "\t+ No fever or significant respiratory distress unless there is a superimposed infection\n",
      "* Physical findings:\n",
      "\t+ Auscultation reveals wheezes or rhonchi\n",
      "\t+ Tachypnea and use of accessory muscles (e.g., neck, shoulder) to breathe\n",
      "\n",
      "Asthma is a chronic inflammatory disease characterized by recurring episodes of airflow obstruction. The symptoms are often triggered by specific stimuli and can be intermittent or persistent.\n",
      "\n",
      "**Key differences:**\n",
      "\n",
      "1. **Onset**: Pneumonia typically presents with a sudden onset of symptoms, while asthma may have a gradual progression.\n",
      "2. **Fever**: Pneumonia is usually accompanied by a fever, whereas asthma rarely has a significant fever component (unless there's a superimposed infection).\n",
      "3. **Cough**: In pneumonia, the cough is often productive (bringing up phlegm), while in asthma, it's often dry or non-productive.\n",
      "4. **Wheezing**: Both conditions may have wheezing, but in pneumonia, it's often accompanied by other signs of respiratory distress (e.g., tachypnea, hypoxia).\n",
      "5. **Chest pain**: Pneumonia is more likely to cause chest pain or discomfort, whereas asthma typically presents with a feeling of tightness or constriction.\n",
      "\n",
      "When evaluating a patient with shortness of breath, it's essential to consider these differences and perform a thorough physical examination, including auscultation, as well as ordering appropriate laboratory tests (e.g., CBC, blood cultures, spirometry) to guide the diagnosis and treatment.\n"
     ]
    }
   ],
   "source": [
    "prompt = \"\"\"\n",
    "Compare the symptoms of pneumonia and asthma in a patient complaining of shortness of breath.\n",
    "\"\"\"\n",
    "response = llm(prompt)\n",
    "print(response)"
   ]
  },
  {
   "cell_type": "markdown",
   "id": "c7783a07-aa3c-4320-92a3-5e69252d126d",
   "metadata": {},
   "source": [
    "11. Error Identification\n",
    "\n",
    "In error identification, the model is tasked with identifying errors in a piece of text or calculation."
   ]
  },
  {
   "cell_type": "code",
   "execution_count": 24,
   "id": "5c806c0e-4166-4a83-8e45-db47316f99cd",
   "metadata": {},
   "outputs": [
    {
     "name": "stdout",
     "output_type": "stream",
     "text": [
      "The error in the statement is that Covid-19, the disease caused by SARS-CoV-2, has not been directly linked to an increased risk of developing cancer. While some studies have suggested a possible association between certain treatments for Covid-19 and an increased risk of certain types of cancer, such as lymphoma or breast cancer, these findings are still preliminary and require further investigation.\n",
      "\n",
      "The World Health Organization (WHO), the Centers for Disease Control and Prevention (CDC), and other reputable health organizations have not found any evidence to support a direct link between Covid-19 and an increased risk of developing cancer.\n"
     ]
    }
   ],
   "source": [
    "prompt = \"\"\"Identify the error in the following statement: 'Covid can cause cancer .'\"\"\"\n",
    "response = llm(prompt)\n",
    "print(response)"
   ]
  },
  {
   "cell_type": "markdown",
   "id": "f20557ec-e739-4fde-a4ef-7a7aa8e03229",
   "metadata": {},
   "source": [
    "12. Self-Correction Prompting\n",
    "\n",
    "Self-correction prompting allows the model to verify and correct its own answers."
   ]
  },
  {
   "cell_type": "code",
   "execution_count": 29,
   "id": "8f1e3cd6-98f1-4ccd-a8fe-e5adc19e4e1b",
   "metadata": {},
   "outputs": [
    {
     "name": "stdout",
     "output_type": "stream",
     "text": [
      "Overall, the response is informative and well-structured. However, I did notice a few minor errors and suggestions for improvement:\n",
      "\n",
      "1. **Typos:** None found.\n",
      "2. **Grammar and punctuation:**\n",
      "\t* The sentence \"Remember, it's always better to err on the side of caution when it comes to your health.\" is a bit awkwardly phrased. Consider rephrasing it to something like \"Remember, prioritize your health and seek medical attention if you're unsure or experiencing severe symptoms.\"\n",
      "3. **Consistency:**\n",
      "\t* The text switches between using \"difficulty breathing\" and \"severe breathing difficulty.\" Try to use the same phrase consistently throughout.\n",
      "4. **Clarity:**\n",
      "\t* Some sentences could be rephrased for better clarity, such as the one starting with \"You may need imaging tests such as a chest X-ray or CT scan...\" Consider breaking this into two separate sentences for easier reading.\n",
      "5. **Format:**\n",
      "\t* The response jumps abruptly from discussing steps to take when feeling unwell to listing common causes of fever and difficulty breathing. Consider adding a transition sentence or section heading to connect the two topics more smoothly.\n",
      "\n",
      "Here's a suggested revised version:\n",
      "\n",
      "Sorry to hear that you're not feeling well! If you have a fever and difficulty breathing, it's important to seek medical attention right away. Here are some steps you can take when you're unwell:\n",
      "\n",
      "1. **Call your doctor or go to an emergency room**: If you're experiencing severe symptoms such as difficulty breathing, chest pain, or severe headache, call your doctor or get to an emergency room immediately.\n",
      "2. **Try to stay calm and comfortable**: Try to relax and avoid panicking. Sit comfortably with your back straight, take slow deep breaths in through your nose and out through your mouth, and try to avoid coughing or talking as much as possible.\n",
      "\n",
      "If you're experiencing fever and difficulty breathing, it's important to seek medical attention. Here are some common causes of these symptoms:\n",
      "\n",
      "1. Pneumonia\n",
      "2. Bronchitis\n",
      "3. Influenza (flu)\n",
      "4. Allergic reactions\n",
      "5. Asthma\n",
      "6. COPD (chronic obstructive pulmonary disease)\n",
      "\n",
      "**What to expect at the doctor's office or emergency room:**\n",
      "\n",
      "1. **Medical evaluation**: A healthcare professional will examine you and ask questions about your symptoms, medical history, and any medications you're taking.\n",
      "2. **Imaging tests**: You may need imaging tests such as a chest X-ray or CT scan to determine if there's an underlying infection or lung disease.\n",
      "\n",
      "Remember, prioritize your health and seek medical attention if you're unsure or experiencing severe symptoms.\n"
     ]
    }
   ],
   "source": [
    "response = llm(\"I have a fever and difficulty breathing. What should I do?\")\n",
    "correction_prompt = f\"Review the following response for errors: {response}\"\n",
    "corrected_response = llm(correction_prompt)\n",
    "print(corrected_response)"
   ]
  },
  {
   "cell_type": "markdown",
   "id": "cce784c0-409f-416d-87a6-747598a8003e",
   "metadata": {},
   "source": [
    "13. Explain Your Answer\n",
    "\n",
    "This prompting style encourages the model to explain its answers."
   ]
  },
  {
   "cell_type": "code",
   "execution_count": 30,
   "id": "d9990bbc-c5a4-47e7-ad83-c84abf71b016",
   "metadata": {},
   "outputs": [
    {
     "name": "stdout",
     "output_type": "stream",
     "text": [
      "The answer provides a detailed explanation of the possible reasons why COVID-19 can cause difficulty breathing (shortness of breath or dyspnea). The reasoning behind each point is as follows:\n",
      "\n",
      "1. **Inflammation and airway constriction**: When the virus infects the lungs, it triggers an intense inflammatory response, which leads to swelling and constriction of the airways. This reduces lung function and makes it harder for oxygen to enter the bloodstream. The inflammation can cause the airways to become narrowed or blocked, making breathing more difficult.\n",
      "\n",
      "2. **Fibrosis and scarring**: The infection can cause fibrosis (scarring) in the lungs, leading to stiffness and reduced elasticity of the lung tissue. This makes breathing more difficult because the lungs are less able to expand and contract properly.\n",
      "\n",
      "3. **Respiratory failure**: In severe cases, COVID-19 can lead to respiratory failure, where the body is unable to take in enough oxygen or remove enough carbon dioxide through normal breathing. This requires mechanical ventilation (ventilator support) to help the patient breathe.\n",
      "\n",
      "4. **ARDS (Acute Respiratory Distress Syndrome)**: ARDS is a life-threatening condition characterized by inflammation and fluid accumulation in the lungs. It can lead to severe shortness of breath, low blood oxygen levels, and even respiratory failure.\n",
      "\n",
      "5. **Pneumonia**: COVID-19 often causes pneumonia, which is an infection that inflames the air sacs (alveoli) in the lungs. Pneumonia can cause difficulty breathing due to inflammation, fluid buildup, and scarring in the lungs.\n",
      "\n",
      "6. **Cardiovascular involvement**: In some cases, COVID-19 can affect the cardiovascular system, leading to cardiac arrhythmias, heart failure, or even myocarditis (inflammation of the heart muscle). This can contribute to shortness of breath by reducing the heart's ability to pump blood effectively.\n",
      "\n",
      "7. **Muscle weakness and fatigue**: The virus can cause widespread muscle weakness and fatigue, making it harder for patients to breathe effectively. This is because the muscles used for breathing, such as those in the diaphragm, are weakened, making it more difficult to take in oxygen and expel carbon dioxide.\n",
      "\n",
      "The answer emphasizes that not everyone with COVID-19 will experience difficulty breathing, but if you are experiencing shortness of breath or any other concerning symptoms, it is crucial to seek medical attention promptly.\n"
     ]
    }
   ],
   "source": [
    "prompt = \"Why does covid cause difficulty in breathing?\"\n",
    "response = llm(prompt)\n",
    "explanation_prompt = f\"Explain the reasoning behind this answer: {response}\"\n",
    "explanation = llm(explanation_prompt)\n",
    "print(explanation)"
   ]
  },
  {
   "cell_type": "markdown",
   "id": "e25d23f5-cc93-417b-861e-0fb726240f57",
   "metadata": {},
   "source": [
    "14. Comparative Judgement\n",
    "\n",
    "Comparative judgment prompts the model to compare two or more items and make a decision."
   ]
  },
  {
   "cell_type": "code",
   "execution_count": 31,
   "id": "594950e9-37e7-4427-a9f0-e13bc541b68f",
   "metadata": {},
   "outputs": [
    {
     "name": "stdout",
     "output_type": "stream",
     "text": [
      "COVID-19 and asthma are two different health conditions with distinct risks. While both can pose significant threats to one's well-being, the answer depends on various factors, including individual circumstances, severity of conditions, and overall health.\n",
      "\n",
      "**COVID-19:**\n",
      "\n",
      "* As a highly contagious respiratory disease, COVID-19 poses a significant risk to individuals who contract it.\n",
      "* According to the World Health Organization (WHO), COVID-19 has caused over 6 million deaths worldwide as of March 2023.\n",
      "* The virus can lead to severe complications, such as pneumonia, acute respiratory distress syndrome (ARDS), and even death, particularly in older adults, those with underlying health conditions, and individuals who are immunocompromised.\n",
      "\n",
      "**Asthma:**\n",
      "\n",
      "* Asthma is a chronic inflammatory disease that affects the airways, causing recurring episodes of wheezing, coughing, chest tightness, and shortness of breath.\n",
      "* Asthma can be a life-threatening condition if left untreated or poorly managed, but it is generally considered a manageable condition with proper treatment and self-care.\n",
      "* According to the Centers for Disease Control and Prevention (CDC), asthma affects approximately 25 million people in the United States alone.\n",
      "\n",
      "**Comparison:**\n",
      "\n",
      "* In terms of immediate danger, COVID-19 poses a more significant threat due to its high contagiousness and potential for severe complications.\n",
      "* Asthma can be life-threatening if not properly managed, but it is generally considered a chronic condition rather than an acute one like COVID-19.\n",
      "* For individuals with underlying asthma, contracting COVID-19 can increase the risk of severe respiratory complications.\n",
      "\n",
      "**Why COVID-19 might be more dangerous:**\n",
      "\n",
      "1. **High contagiousness**: COVID-19 spreads quickly and easily through airborne transmission, making it more likely to spread rapidly in communities.\n",
      "2. **Severe complications**: The virus can lead to severe respiratory complications, such as ARDS, which can be life-threatening, especially in vulnerable populations.\n",
      "3. **Global impact**: COVID-19 has had a significant global impact, with widespread lockdowns, economic disruption, and strain on healthcare systems.\n",
      "\n",
      "**Why asthma might be more dangerous for some individuals:**\n",
      "\n",
      "1. **Chronic nature**: Asthma is a chronic condition that requires ongoing management to prevent exacerbations.\n",
      "2. **Underlying respiratory issues**: Asthma can coexist with other underlying respiratory conditions, such as chronic obstructive pulmonary disease (COPD), which can increase the risk of severe complications.\n",
      "3. **Triggered by environmental factors**: Asthma attacks can be triggered by environmental factors like pollution, allergens, or stress, making it more challenging to manage.\n",
      "\n",
      "In conclusion, while both COVID-19 and asthma can pose significant risks to an individual's health, COVID-19 is generally considered a more immediate and severe threat due to its high contagiousness and potential for severe respiratory complications. However, asthma remains a chronic condition that requires ongoing management to prevent exacerbations and ensure optimal health outcomes.\n"
     ]
    }
   ],
   "source": [
    "prompt = \"Which is more dangerous, covid or asthma, and why?\"\n",
    "response = llm(prompt)\n",
    "print(response)"
   ]
  },
  {
   "cell_type": "markdown",
   "id": "c88cfe05-1586-4a68-8a69-a6316d126db8",
   "metadata": {},
   "source": [
    "15. Clarification Prompting\n",
    "\n",
    "Clarification prompting is useful for ambiguous questions, guiding the model to ask for more context if needed."
   ]
  },
  {
   "cell_type": "code",
   "execution_count": 32,
   "id": "8d274f8f-df2a-44cb-9fca-9858142a8a97",
   "metadata": {},
   "outputs": [
    {
     "name": "stdout",
     "output_type": "stream",
     "text": [
      "To better understand your symptoms, I'm going to ask you some questions to clarify things. Please feel free to provide as much detail as possible.\n",
      "\n",
      "Can you start by telling me when your symptoms first started? Was it sudden or did they develop gradually over time?\n",
      "\n",
      "How would you describe the pain or discomfort you're experiencing? Is it a sharp stabbing sensation, a dull ache, or a burning feeling?\n",
      "\n",
      "Is the pain constant or does it come and go? If it's intermittent, can you tell me what triggers it or makes it better?\n",
      "\n",
      "Can you show me where the pain is located on your body? Use your fingers to point out exactly where it hurts.\n",
      "\n",
      "How would you rate the intensity of the pain on a scale of 1-10, with 1 being mild and 10 being severe?\n",
      "\n",
      "Have you noticed any other symptoms that might be related to what's going on? For example, are you experiencing fatigue, nausea, or changes in your appetite?\n",
      "\n",
      "Are there any activities or movements that make the symptoms worse or better? For instance, does walking or sitting for long periods of time make it better or worse?\n",
      "\n",
      "Do you have any medical conditions or take any medications that might be contributing to your symptoms?\n",
      "\n",
      "Is there anything else you've noticed about your symptoms that I haven't asked about yet?\n"
     ]
    }
   ],
   "source": [
    "prompt = \"I feel sick and have trouble breathing. What should I do?\"\n",
    "clarification_prompt = f\"Ask the patient clarifying questions to gather more information about their symptoms.\"\n",
    "response = llm(clarification_prompt)\n",
    "print(response)"
   ]
  },
  {
   "cell_type": "code",
   "execution_count": null,
   "id": "208c4fdc-123d-4979-bcf7-501ec3de3fac",
   "metadata": {},
   "outputs": [],
   "source": []
  }
 ],
 "metadata": {
  "kernelspec": {
   "display_name": "Python 3 (ipykernel)",
   "language": "python",
   "name": "python3"
  },
  "language_info": {
   "codemirror_mode": {
    "name": "ipython",
    "version": 3
   },
   "file_extension": ".py",
   "mimetype": "text/x-python",
   "name": "python",
   "nbconvert_exporter": "python",
   "pygments_lexer": "ipython3",
   "version": "3.10.9"
  }
 },
 "nbformat": 4,
 "nbformat_minor": 5
}
