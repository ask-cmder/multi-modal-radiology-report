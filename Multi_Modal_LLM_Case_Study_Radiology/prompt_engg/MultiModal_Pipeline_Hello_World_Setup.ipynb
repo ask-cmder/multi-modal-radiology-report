{
 "cells": [
  {
   "cell_type": "code",
   "execution_count": 26,
   "id": "f2ad3a88-de0f-47da-8030-994512d1cf95",
   "metadata": {},
   "outputs": [],
   "source": [
    "import pathlib\n",
    "import textwrap\n",
    "import google.generativeai as genai\n",
    "from IPython.display import display\n",
    "from IPython.display import Markdown\n",
    "import PIL.Image\n",
    "import google.ai.generativelanguage as glm"
   ]
  },
  {
   "cell_type": "code",
   "execution_count": 27,
   "id": "6bded690-f0e9-498c-b7d6-11ddbdbcc320",
   "metadata": {},
   "outputs": [],
   "source": [
    "def to_markdown(text):\n",
    "  text = text.replace('•', '  *')\n",
    "  return Markdown(textwrap.indent(text, '> ', predicate=lambda _: True))"
   ]
  },
  {
   "cell_type": "code",
   "execution_count": 28,
   "id": "f093aa92-e4ff-4e01-8caa-3911d4b22f0d",
   "metadata": {},
   "outputs": [],
   "source": [
    "GOOGLE_API_KEY = \"-------------------------------\"\n",
    "genai.configure(api_key=GOOGLE_API_KEY)"
   ]
  },
  {
   "cell_type": "code",
   "execution_count": 29,
   "id": "8eb99ba1-18ec-42c9-81db-52cae5333e2c",
   "metadata": {},
   "outputs": [],
   "source": [
    "v_model = genai.GenerativeModel('gemini-1.5-flash-latest')"
   ]
  },
  {
   "cell_type": "code",
   "execution_count": 30,
   "id": "8229ab99-b532-41fe-82c7-aedef131b338",
   "metadata": {},
   "outputs": [
    {
     "name": "stdout",
     "output_type": "stream",
     "text": [
      "models/gemini-1.0-pro-latest\n",
      "models/gemini-1.0-pro\n",
      "models/gemini-pro\n",
      "models/gemini-1.0-pro-001\n",
      "models/gemini-1.0-pro-vision-latest\n",
      "models/gemini-pro-vision\n",
      "models/gemini-1.5-pro-latest\n",
      "models/gemini-1.5-pro-001\n",
      "models/gemini-1.5-pro-002\n",
      "models/gemini-1.5-pro\n",
      "models/gemini-1.5-pro-exp-0801\n",
      "models/gemini-1.5-pro-exp-0827\n",
      "models/gemini-1.5-flash-latest\n",
      "models/gemini-1.5-flash-001\n",
      "models/gemini-1.5-flash-001-tuning\n",
      "models/gemini-1.5-flash\n",
      "models/gemini-1.5-flash-exp-0827\n",
      "models/gemini-1.5-flash-002\n",
      "models/gemini-1.5-flash-8b\n",
      "models/gemini-1.5-flash-8b-001\n",
      "models/gemini-1.5-flash-8b-latest\n",
      "models/gemini-1.5-flash-8b-exp-0827\n",
      "models/gemini-1.5-flash-8b-exp-0924\n",
      "models/gemini-exp-1114\n"
     ]
    }
   ],
   "source": [
    "for m in genai.list_models():\n",
    "  if 'generateContent' in m.supported_generation_methods:\n",
    "    print(m.name)"
   ]
  },
  {
   "cell_type": "code",
   "execution_count": 31,
   "id": "38d60f04-d3ea-49a3-8e3a-c90544664478",
   "metadata": {},
   "outputs": [],
   "source": [
    "from transformers import AutoTokenizer, AutoModelForCausalLM\n",
    "import torch\n",
    "from PIL import Image"
   ]
  },
  {
   "cell_type": "code",
   "execution_count": 32,
   "id": "c32dfba1-2ffd-41f5-b273-f10c4665f900",
   "metadata": {},
   "outputs": [],
   "source": [
    "from langchain_community.llms import Ollama\n",
    "t_model = Ollama(model=\"llama3\")"
   ]
  },
  {
   "cell_type": "code",
   "execution_count": 33,
   "id": "5e858a3b-d75e-491d-a4ad-cb8eb5623134",
   "metadata": {},
   "outputs": [],
   "source": [
    "class MultimodalPipeline:\n",
    "    def __init__(self, visual_model, text_model):\n",
    "        self.visual_model = visual_model\n",
    "        self.text_model = text_model\n",
    "\n",
    "    def process_image(self, image):\n",
    "        # Get description or features from the visual model\n",
    "        image_description = self.visual_model.generate_content([image, \"describe\"])\n",
    "        return image_description.text\n",
    "\n",
    "    def process_text(self, text):\n",
    "        # Directly use the text model to generate text responses\n",
    "        return self.text_model(text)\n",
    "        \n",
    "    def generate_image_from_text(self,prompt):\n",
    "        try:\n",
    "            image_bytes = self.visual_model.generate(prompt=prompt)\n",
    "            image = Image.open(io.BytesIO(image_bytes))\n",
    "            return image\n",
    "        except Exception as e:\n",
    "            print(f\"Error generating image: {e}\")\n",
    "            return Image.new(\"RGB\", (512, 512), color=\"white\") \n",
    "        \n",
    "    def generate_detailed_prompt(self, image_description, text_description, user_input):\n",
    "        detailed_prompt = (\n",
    "            f\"Image Analysis:\\n{image_description}\\n\\n\"    \n",
    "            f\"Context from Past:\\n{text_input}\\n\\n\"\n",
    "            f\"User Question :\\n{user_input}\\n\\n\"\n",
    "            f\"You are a personality psychologists Based on this, provide a response.\"\n",
    "        )\n",
    "        return detailed_prompt\n",
    "\n",
    "    def generate_multimodal_output(self, image, text_input,user_input):\n",
    "        image_description = self.process_image(image)\n",
    "        text_description = self.process_text(text_input)\n",
    "        detailed_prompt = self.generate_detailed_prompt(image_description, text_description, user_input)\n",
    "        generated_text = self.process_text(detailed_prompt)\n",
    "        generated_image = self.generate_image_from_text(generated_text)\n",
    "        return generated_text, generated_image"
   ]
  },
  {
   "cell_type": "code",
   "execution_count": 34,
   "id": "90850983-9abc-4348-a48c-3b3f025cb471",
   "metadata": {},
   "outputs": [
    {
     "name": "stdout",
     "output_type": "stream",
     "text": [
      "Error generating image: 'GenerativeModel' object has no attribute 'generate'\n",
      "Generated Text: What an intriguing exercise!\n",
      "\n",
      "Based on the vibrant blue morning glories in the image, I'm going to take a leap of faith and infer some insights about your personality traits.\n",
      "\n",
      "As a Blue color, you likely possess qualities characteristic of Introverted Thinkers (INTJ or INFJ types). Here's what that might mean:\n",
      "\n",
      "1. **Introversion**: You tend to be more reserved and may prefer quieter environments where you can recharge and focus on your thoughts.\n",
      "2. **Thinking**: Your primary mode of thinking is logical and analytical, making decisions based on reason and evidence rather than emotions.\n",
      "3. **Planning and Organization**: As an INTJ or INFJ, you're likely to be a detail-oriented planner, with a strong desire for control and structure in your life. You might excel at planning and organizing projects, tasks, and schedules.\n",
      "4. **Creativity and Innovation**: While not typically associated with extraverted traits, INTJs and INFJs can have hidden creative sparks waiting to be ignited! You may surprise yourself by having artistic or innovative ideas when given the space to think creatively.\n",
      "\n",
      "In terms of performance in organization and planning:\n",
      "\n",
      "* You're likely to thrive in roles that require attention to detail, strategic thinking, and problem-solving.\n",
      "* Your ability to plan and organize will serve you well in managing projects, timelines, and resources.\n",
      "* As an INTJ or INFJ, you might be more self-motivated and less reliant on external stimulation to stay focused.\n",
      "\n",
      "Remember that these are general insights based on a single image, and individual differences abound. Take this as a starting point for self-reflection, and feel free to explore further to refine your understanding of your personality traits!\n",
      "\n",
      "How do you react to these suggestions? Do you find them resonating with your experiences or challenging your perceptions?\n"
     ]
    }
   ],
   "source": [
    "image_path = 'C:\\\\Users\\\\LENOVO\\\\Downloads\\\\flower.jpg'\n",
    "image = Image.open(image_path)\n",
    "\n",
    "text_input = \"\"\"\n",
    "            Red color means Extrovert thinkers ,\n",
    "            Yellow color means Extrovert feelers , \n",
    "            Blue color means Introverted thinkers , \n",
    "            Green color means Introverted feelers\n",
    "            \"\"\"\n",
    "\n",
    "user_input =  \"\"\"\n",
    "              Describe my personality traits. \n",
    "              For example, If I more introverted or extroverted? How will I perform in organization and planning?\n",
    "              \"\"\" \n",
    "\n",
    "pipeline = MultimodalPipeline(visual_model=v_model, text_model=t_model)\n",
    "\n",
    "generated_text, generated_image = pipeline.generate_multimodal_output(image, text_input,user_input)\n",
    "\n",
    "print(\"Generated Text:\", generated_text)\n",
    "\n",
    "generated_image.show() "
   ]
  },
  {
   "cell_type": "code",
   "execution_count": null,
   "id": "d35970f5-4a7e-4930-8a68-b7903a03e382",
   "metadata": {},
   "outputs": [],
   "source": []
  }
 ],
 "metadata": {
  "kernelspec": {
   "display_name": "Python 3 (ipykernel)",
   "language": "python",
   "name": "python3"
  },
  "language_info": {
   "codemirror_mode": {
    "name": "ipython",
    "version": 3
   },
   "file_extension": ".py",
   "mimetype": "text/x-python",
   "name": "python",
   "nbconvert_exporter": "python",
   "pygments_lexer": "ipython3",
   "version": "3.10.9"
  }
 },
 "nbformat": 4,
 "nbformat_minor": 5
}
